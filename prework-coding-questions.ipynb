{
 "cells": [
  {
   "cell_type": "markdown",
   "id": "321b9b9d",
   "metadata": {},
   "source": [
    "# QUESTION 1 \n",
    "Write a function to print \"hello_USERNAME!\" USERNAME is the input of the function. The first line of the code has been defined as below."
   ]
  },
  {
   "cell_type": "code",
   "execution_count": 6,
   "id": "2c834b9f",
   "metadata": {},
   "outputs": [
    {
     "name": "stdout",
     "output_type": "stream",
     "text": [
      "Hello_USERNAME\n"
     ]
    }
   ],
   "source": [
    "def hello_name(user_name):\n",
    "    print(f\"Hello_{user_name.upper()}\")\n",
    "\n",
    "hello_name(\"USERNAME\")"
   ]
  },
  {
   "cell_type": "markdown",
   "id": "d60cc1c3",
   "metadata": {},
   "source": [
    "# Question 2\n",
    "Write a python function, first_odds that prints the odd numbers from 1-100 and returns nothing"
   ]
  },
  {
   "cell_type": "code",
   "execution_count": 7,
   "id": "d72bde42",
   "metadata": {
    "scrolled": true
   },
   "outputs": [
    {
     "name": "stdout",
     "output_type": "stream",
     "text": [
      "1\n",
      "3\n",
      "5\n",
      "7\n",
      "9\n",
      "11\n",
      "13\n",
      "15\n",
      "17\n",
      "19\n",
      "21\n",
      "23\n",
      "25\n",
      "27\n",
      "29\n",
      "31\n",
      "33\n",
      "35\n",
      "37\n",
      "39\n",
      "41\n",
      "43\n",
      "45\n",
      "47\n",
      "49\n",
      "51\n",
      "53\n",
      "55\n",
      "57\n",
      "59\n",
      "61\n",
      "63\n",
      "65\n",
      "67\n",
      "69\n",
      "71\n",
      "73\n",
      "75\n",
      "77\n",
      "79\n",
      "81\n",
      "83\n",
      "85\n",
      "87\n",
      "89\n",
      "91\n",
      "93\n",
      "95\n",
      "97\n",
      "99\n"
     ]
    }
   ],
   "source": [
    "def first_odds():\n",
    "    for num in range(1,100,2):\n",
    "        print(num)\n",
    "\n",
    "first_odds()"
   ]
  },
  {
   "cell_type": "markdown",
   "id": "153e297d",
   "metadata": {},
   "source": [
    "# Question 3\n",
    "Please write a Python function, max_num_in_list to return the max number of a given list. The first line of the code has been defined as below."
   ]
  },
  {
   "cell_type": "code",
   "execution_count": 10,
   "id": "32f6dd06",
   "metadata": {},
   "outputs": [
    {
     "data": {
      "text/plain": [
       "323232222"
      ]
     },
     "execution_count": 10,
     "metadata": {},
     "output_type": "execute_result"
    }
   ],
   "source": [
    "def max_num_in_list(a_list):\n",
    "    return max(a_list)\n",
    "\n",
    "max_num_in_list([3, 2323, 23, 333333, 323232222])"
   ]
  },
  {
   "cell_type": "markdown",
   "id": "041a14d3",
   "metadata": {},
   "source": [
    "# Question 4\n",
    "Write a function to return if the given year is a leap year. A leap year is divisible by 4, but not divisible by 100, unless it is also divisible by 400. The return should be boolean Type (true/false)."
   ]
  },
  {
   "cell_type": "code",
   "execution_count": 48,
   "id": "23896ed2",
   "metadata": {},
   "outputs": [
    {
     "data": {
      "text/plain": [
       "True"
      ]
     },
     "execution_count": 48,
     "metadata": {},
     "output_type": "execute_result"
    }
   ],
   "source": [
    "def is_leap_year(a_year):\n",
    "    if a_year % 4 == 0:\n",
    "        if a_year % 100 != 0:\n",
    "            return True\n",
    "        if a_year % 400 == 0:\n",
    "                return True\n",
    "    else:\n",
    "        return False\n",
    "\n",
    "is_leap_year(2024)"
   ]
  },
  {
   "cell_type": "markdown",
   "id": "67b78e37",
   "metadata": {},
   "source": [
    "# Question 5\n",
    "Write a function to check to see if all numbers in list are consecutive numbers. For example, [2,3,4,5,6,7] are consecutive numbers, but [1,2,4,5] are not consecutive numbers. The return should be boolean Type."
   ]
  },
  {
   "cell_type": "code",
   "execution_count": 9,
   "id": "84fbc60e",
   "metadata": {},
   "outputs": [
    {
     "data": {
      "text/plain": [
       "True"
      ]
     },
     "execution_count": 9,
     "metadata": {},
     "output_type": "execute_result"
    }
   ],
   "source": [
    "def is_consecutive(a_list):\n",
    "    if a_list == list(range(min(a_list), max(a_list) +1)):\n",
    "        return True\n",
    "    else:\n",
    "        return False\n",
    "        \n",
    "    \n",
    "    \n",
    "is_consecutive([4,5,6])"
   ]
  }
 ],
 "metadata": {
  "kernelspec": {
   "display_name": "Python 3 (ipykernel)",
   "language": "python",
   "name": "python3"
  },
  "language_info": {
   "codemirror_mode": {
    "name": "ipython",
    "version": 3
   },
   "file_extension": ".py",
   "mimetype": "text/x-python",
   "name": "python",
   "nbconvert_exporter": "python",
   "pygments_lexer": "ipython3",
   "version": "3.9.12"
  }
 },
 "nbformat": 4,
 "nbformat_minor": 5
}
